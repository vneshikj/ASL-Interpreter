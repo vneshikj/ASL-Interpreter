{
 "cells": [
  {
   "cell_type": "code",
   "execution_count": 31,
   "metadata": {},
   "outputs": [],
   "source": [
    "import numpy as np\n",
    "import pandas as pd\n",
    "\n",
    "import torch\n",
    "from torch.utils.data import TensorDataset, DataLoader, random_split\n",
    "from PIL import Image\n",
    "from torchvision.transforms import ToTensor\n",
    "import matplotlib.pyplot as plt\n",
    "\n",
    "import torch.nn as nn\n",
    "import torch.nn.functional as F\n",
    "from torchvision.utils import make_grid\n"
   ]
  },
  {
   "cell_type": "code",
   "execution_count": 32,
   "metadata": {},
   "outputs": [],
   "source": [
    "data_dir = \"mnistDataset/\"\n",
    "testDf = pd.read_csv(data_dir+\"sign_mnist_test.csv\")\n",
    "trainDf = pd.read_csv(data_dir+\"sign_mnist_train.csv\")"
   ]
  },
  {
   "cell_type": "code",
   "execution_count": 33,
   "metadata": {},
   "outputs": [],
   "source": [
    "def dataframe_to_nparray(train_df, test_df):\n",
    "    train_df1 = train_df.copy(deep = True)\n",
    "    test_df1 = test_df.copy(deep = True)\n",
    "    train_images = train_df1.iloc[:, 1:].to_numpy(dtype = 'float32')\n",
    "    test_images = test_df1.iloc[:, 1:].to_numpy(dtype = 'float32')\n",
    "    return train_images,test_images"
   ]
  },
  {
   "cell_type": "code",
   "execution_count": 34,
   "metadata": {},
   "outputs": [],
   "source": [
    "trainImage, testImage = dataframe_to_nparray(trainDf,testDf)\n",
    "trainLabels = trainDf['label'].values\n",
    "testLabels = testDf['label'].values"
   ]
  },
  {
   "cell_type": "code",
   "execution_count": 60,
   "metadata": {},
   "outputs": [],
   "source": [
    "# ------- TRANSFORM INTO DATAFRAME -----------\n",
    "trainImagesShaped = trainImage.reshape(trainImage.shape[0],1,28,28) \n",
    "testImagesShaped = testImage.reshape(testImage.shape[0],1,28,28) # 3 dimensional tensors\n",
    "\n",
    "# ------- CONVERT INTO PYTORCH TENSORS -------\n",
    "trainImageTensors = torch.from_numpy(trainImagesShaped)\n",
    "trainLabelTensors = torch.from_numpy(trainLabels)\n",
    "testImageTensors = torch.from_numpy(testImagesShaped)\n",
    "testLabelTensors = torch.from_numpy(testLabels)\n",
    " \n",
    "trainDataFull = TensorDataset(trainImageTensors, trainLabelTensors) # to be divided into train/validation\n",
    "testData = TensorDataset(testImageTensors, testLabelTensors)"
   ]
  },
  {
   "cell_type": "code",
   "execution_count": 61,
   "metadata": {},
   "outputs": [
    {
     "name": "stdout",
     "output_type": "stream",
     "text": [
      "torch.Size([1, 28, 28]) tensor(3)\n"
     ]
    }
   ],
   "source": [
    "img, label = trainDataFull[0]\n",
    "print(img.shape, label)"
   ]
  },
  {
   "cell_type": "code",
   "execution_count": 36,
   "metadata": {},
   "outputs": [],
   "source": [
    "# ------- HYPER PARAMETERS and other constants -------\n",
    "batch_size = 64\n",
    "learning_rate = 0.001\n",
    "in_channels = 1\n",
    "input_size = in_channels * 28 * 28\n",
    "num_classes = 26"
   ]
  },
  {
   "cell_type": "code",
   "execution_count": 37,
   "metadata": {},
   "outputs": [],
   "source": [
    "# ------- CREATE TRAINING AND VALIDATION DATASET ----------\n",
    "random_seed = 11\n",
    "torch.manual_seed(random_seed);\n",
    "\n",
    "val_size = 7455\n",
    "train_size = len(trainDataFull)-val_size\n",
    "\n",
    "trainData, valData = random_split(trainDataFull, [train_size, val_size]) # create validation set"
   ]
  },
  {
   "cell_type": "code",
   "execution_count": 63,
   "metadata": {},
   "outputs": [],
   "source": [
    "trainDataLoader = DataLoader(trainData, batch_size, shuffle=True)\n",
    "valDataLoader = DataLoader(valData, batch_size*2, num_workers=4, pin_memory=True)\n",
    "testDataLoader = DataLoader(testData, batch_size*2, num_workers=4, pin_memory=True)"
   ]
  },
  {
   "cell_type": "code",
   "execution_count": 64,
   "metadata": {},
   "outputs": [],
   "source": [
    "def accuracy(outputs, labels):\n",
    "    _, preds = torch.max(outputs, dim=1)\n",
    "    return torch.tensor(torch.sum(preds == labels).item() / len(preds))\n",
    "\n",
    "# ------- CREATING NEURAL NETWORK ------\n",
    "class CNN(nn.Module):\n",
    "    \"\"\"Feedfoward neural network with 2 hidden layer\"\"\"\n",
    "    def __init__(self, in_size, out_size):\n",
    "        super().__init__()\n",
    "        # hidden layer 1\n",
    "        self.linear1 = nn.Linear(in_size, 512)\n",
    "        # hidden layer 2\n",
    "        self.linear2 = nn.Linear(512, 256)\n",
    "        # hidden layer 3\n",
    "        self.linear3 = nn.Linear(256, 128)\n",
    "        # output layer  \n",
    "        self.linear4 = nn.Linear(128, out_size)\n",
    "        \n",
    "    def forward(self, xb):\n",
    "        # Flatten the image tensors\n",
    "        out = xb.view(xb.size(0), -1)\n",
    "        # Get intermediate outputs using hidden layer 1\n",
    "        out = self.linear1(out)\n",
    "        # Apply activation function\n",
    "        out = F.relu(out)\n",
    "        # Get intermediate outputs using hidden layer 2\n",
    "        out = self.linear2(out)\n",
    "        # Apply activation function\n",
    "        out = F.relu(out)\n",
    "        # Get inermediate outputs using hidden layer 3\n",
    "        out = self.linear3(out)\n",
    "        # Apply a activation function\n",
    "        out = F.relu(out)\n",
    "        # Get predictions using output layer\n",
    "        out = self.linear4(out)\n",
    "        return out\n",
    "    \n",
    "    def training_step(self, batch):\n",
    "        images, labels = batch \n",
    "        out = self(images)                  # Generate predictions\n",
    "        loss = F.cross_entropy(out, labels) # Calculate loss\n",
    "        return loss\n",
    "    \n",
    "    def validation_step(self, batch):\n",
    "        images, labels = batch \n",
    "        out = self(images)                    # Generate predictions\n",
    "        loss = F.cross_entropy(out, labels)   # Calculate loss\n",
    "        acc = accuracy(out, labels)           # Calculate accuracy\n",
    "        return {'val_loss': loss, 'val_acc': acc}\n",
    "        \n",
    "    def validation_epoch_end(self, outputs):\n",
    "        batch_losses = [x['val_loss'] for x in outputs]\n",
    "        epoch_loss = torch.stack(batch_losses).mean()   # Combine losses\n",
    "        batch_accs = [x['val_acc'] for x in outputs]\n",
    "        epoch_acc = torch.stack(batch_accs).mean()      # Combine accuracies\n",
    "        return {'val_loss': epoch_loss.item(), 'val_acc': epoch_acc.item()}\n",
    "    \n",
    "    def epoch_end(self, epoch, result):\n",
    "        print(\"Epoch [{}], val_loss: {:.4f}, val_acc: {:.4f}\".format(epoch, result['val_loss'], result['val_acc']))"
   ]
  },
  {
   "cell_type": "code",
   "execution_count": 66,
   "metadata": {},
   "outputs": [],
   "source": [
    "def evaluate(model, valueLoader):\n",
    "    outputs = [model.validation_step(batch) for batch in valueLoader]\n",
    "    return model.validation_epoch_end(outputs)\n",
    "\n",
    "def fit(epochs, lr, model, trainLoader, valueLoader, opt_func = torch.optim.SGD):\n",
    "    history = []\n",
    "    optimizer = opt_func(model.parameters(), lr)\n",
    "    for epoch in range(epochs):\n",
    "        for batch in trainLoader:\n",
    "            loss = model.training_step(batch)\n",
    "            loss.backward()\n",
    "            optimizer.step()\n",
    "            optimizer.zero_grad()\n",
    "        \n",
    "        result = evaluate(model,valueLoader)\n",
    "        model.epoch_end(epoch,result)\n",
    "        history.append(result)\n",
    "    return history"
   ]
  },
  {
   "cell_type": "code",
   "execution_count": 67,
   "metadata": {},
   "outputs": [],
   "source": [
    "def to_device(data,device):\n",
    "    if isinstance(data, (list,tuple)):\n",
    "        return [to_device(x,device) for x in data]\n",
    "    return data.to(device, non_blocking = True)\n",
    "\n",
    "class DeviceDataLoader():\n",
    "    \"\"\"Wrap a dataloader to move data to a device\"\"\"\n",
    "    def __init__(self, dl, device):\n",
    "        self.dl = dl\n",
    "        self.device = device\n",
    "        \n",
    "    def __iter__(self):\n",
    "        \"\"\"Yield a batch of data after moving it to device\"\"\"\n",
    "        for b in self.dl: \n",
    "            yield to_device(b, self.device)\n",
    "\n",
    "    def __len__(self):\n",
    "        \"\"\"Number of batches\"\"\"\n",
    "        return len(self.dl)"
   ]
  },
  {
   "cell_type": "code",
   "execution_count": 68,
   "metadata": {},
   "outputs": [],
   "source": [
    "model = CNN(input_size, out_size = num_classes)\n",
    "device = torch.device(\"cuda\" if torch.cuda.is_available() else \"cpu\")\n",
    "model = to_device(model,device)\n"
   ]
  },
  {
   "cell_type": "code",
   "execution_count": 69,
   "metadata": {},
   "outputs": [
    {
     "data": {
      "text/plain": [
       "[{'val_loss': 11.211682319641113, 'val_acc': 0.03898134082555771}]"
      ]
     },
     "execution_count": 69,
     "metadata": {},
     "output_type": "execute_result"
    }
   ],
   "source": [
    "history = [evaluate(model, valData)]\n",
    "history"
   ]
  },
  {
   "cell_type": "code",
   "execution_count": 70,
   "metadata": {},
   "outputs": [
    {
     "name": "stdout",
     "output_type": "stream",
     "text": [
      "Epoch [0], val_loss: 2.9397, val_acc: 0.2180\n",
      "Epoch [1], val_loss: 1.3594, val_acc: 0.5537\n",
      "Epoch [2], val_loss: 1.1234, val_acc: 0.6340\n",
      "Epoch [3], val_loss: 0.6022, val_acc: 0.8303\n",
      "Epoch [4], val_loss: 0.4660, val_acc: 0.8549\n",
      "Epoch [5], val_loss: 0.3332, val_acc: 0.9142\n",
      "Epoch [6], val_loss: 0.2536, val_acc: 0.9409\n",
      "Epoch [7], val_loss: 0.1958, val_acc: 0.9517\n",
      "Epoch [8], val_loss: 0.1248, val_acc: 0.9831\n",
      "Epoch [9], val_loss: 0.0924, val_acc: 0.9885\n"
     ]
    }
   ],
   "source": [
    "history += fit(10, 0.001, model, trainData, valData)"
   ]
  },
  {
   "cell_type": "code",
   "execution_count": 74,
   "metadata": {},
   "outputs": [
    {
     "name": "stdout",
     "output_type": "stream",
     "text": [
      "Label: 6 , Predicted: 6\n"
     ]
    },
    {
     "data": {
      "image/png": "[encoded data removed]",
      "text/plain": [
       "<Figure size 640x480 with 1 Axes>"
      ]
     },
     "metadata": {},
     "output_type": "display_data"
    }
   ],
   "source": [
    "# ----------- PREDICTING IMAGES -------------\n",
    "def predict_image(image, model):\n",
    "    xb = to_device(image.unsqueeze(0), device)\n",
    "    yb = model(xb)\n",
    "    _, preds  = torch.max(yb, dim=1)\n",
    "    return preds[0].item()\n",
    "\n",
    "image, label = testData[70]\n",
    "plt.imshow(image.view(28,28),cmap='gray')\n",
    "print('Label:', label.item(), ', Predicted:', predict_image(image, model))"
   ]
  }
 ],
 "metadata": {
  "kernelspec": {
   "display_name": "Python 3",
   "language": "python",
   "name": "python3"
  },
  "language_info": {
   "codemirror_mode": {
    "name": "ipython",
    "version": 3
   },
   "file_extension": ".py",
   "mimetype": "text/x-python",
   "name": "python",
   "nbconvert_exporter": "python",
   "pygments_lexer": "ipython3",
   "version": "3.10.10"
  },
  "orig_nbformat": 4
 },
 "nbformat": 4,
 "nbformat_minor": 2
}
